{
 "cells": [
  {
   "cell_type": "code",
   "execution_count": 60,
   "metadata": {},
   "outputs": [],
   "source": [
    "import numpy as np\n",
    "import matplotlib.pyplot as plt\n",
    "from typing import List\n",
    "from typing import Tuple\n",
    "\n",
    "%matplotlib inline"
   ]
  },
  {
   "cell_type": "code",
   "execution_count": 124,
   "metadata": {},
   "outputs": [],
   "source": [
    "class JustRNN:\n",
    "    def __init__(self, max_n: int, hidden_dim: int) -> None:\n",
    "        self.max_n: int      = max_n\n",
    "        self.hidden_dim: int = hidden_dim\n",
    "            \n",
    "        self.Wxh: np.ndarray = 0.01 * np.random.randn(hidden_dim, max_n + 1)\n",
    "        self.Whh: np.ndarray = 0.01 * np.random.randn(hidden_dim, hidden_dim)\n",
    "        self.Why: np.ndarraynp.ndarray = 0.01 * np.random.randn(max_n, hidden_dim)\n",
    "        \n",
    "    def forward(self, X: np.ndarray, y: np.ndarray, size: int) -> Tuple[np.ndarray, List[np.ndarray], \n",
    "                                                                        List[np.ndarray], float]:  \n",
    "        hidden_states: List[np.ndarray] = []\n",
    "        hidden_states.append(np.zeros((self.hidden_dim, 1)))    \n",
    "        \n",
    "        probs: List[np.ndarray] = []\n",
    "        prediction: np.ndarray = np.zeros(size, dtype=np.int32)\n",
    "        loss: float = 0\n",
    "        \n",
    "        pos: int\n",
    "        for pos in range(size):\n",
    "            X[self.max_n] = pos\n",
    "            hidden: np.ndarray = np.tanh(np.dot(self.Wxh, X) + np.dot(self.Whh, hidden_states[-1]))\n",
    "            hidden_states.append(hidden)\n",
    "\n",
    "            output: np.ndarray = np.dot(self.Why, hidden)\n",
    "            prob: np.ndarray = np.exp(output) / np.sum(np.exp(output)) \n",
    "            probs.append(prob)\n",
    "\n",
    "            loss += -np.log(prob[y[pos],0]) \n",
    "\n",
    "            prediction[pos] = np.argmax(prob)\n",
    "            \n",
    "        return prediction, hidden_states, probs, loss\n",
    "    \n",
    "    def backward(self, X: np.ndarray, y: np.ndarray, size: int, \n",
    "                 hidden_states: List[np.ndarray], probs: List[np.ndarray]) -> Tuple[np.ndarray, np.ndarray, \n",
    "                                                                                    np.ndarray]:\n",
    "        dWxh: np.ndarray = np.zeros_like(self.Wxh)\n",
    "        dWhh: np.ndarray = np.zeros_like(self.Whh)\n",
    "        dWhy: np.ndarray = np.zeros_like(self.Why)\n",
    "        dhnext: np.ndarray = np.zeros_like(hidden_states[0])\n",
    "        \n",
    "        pos: int\n",
    "        for pos in reversed(range(size)):\n",
    "            X[self.max_n] = pos\n",
    "            dy: np.ndarray = np.copy(probs[pos])\n",
    "            dy[y[pos]] -= 1 \n",
    "\n",
    "            dWhy += np.dot(dy, hidden_states[pos].T)\n",
    "            \n",
    "            dh: np.ndarray = np.dot(self.Why.T, dy) + dhnext \n",
    "            dhraw: np.ndarray = (1 - hidden_states[pos] * hidden_states[pos]) * dh \n",
    "            \n",
    "            dWxh += np.dot(dhraw, X.T)\n",
    "            dWhh += np.dot(dhraw, hidden_states[pos-1].T)\n",
    "            \n",
    "            dhnext = np.dot(self.Whh.T, dhraw)\n",
    "            \n",
    "        for dparam in [dWxh, dWhh, dWhy]:\n",
    "            # clip to mitigate exploding gradients\n",
    "            np.clip(dparam, -5, 5, out=dparam) \n",
    "            \n",
    "        return dWxh, dWhh, dWhy\n",
    "        \n",
    "    def train(self, max_examples: int, learning_rate: float, max_seq_len: int, lr_lambda: float = 0.4, \n",
    "            lr_reduce_rate: int = 500, info_rate: int = 100) -> List[float]:\n",
    "        \n",
    "        correct_preds: float = 0\n",
    "        all_preds: int       = 0\n",
    "        accur_list: List[float] = []\n",
    "            \n",
    "        for i in range(max_examples):\n",
    "            sequence_size: int = max_seq_len\n",
    "            \n",
    "            X: np.ndarray = np.random.randint(self.max_n, size=sequence_size)\n",
    "            y: np.ndarray = np.sort(X)\n",
    "\n",
    "            one_hot: np.ndarray = np.zeros((self.max_n + 1, 1))\n",
    "            one_hot[X, :] = 1\n",
    "            \n",
    "            prediction: np.ndarray\n",
    "            hidden_states: List[np.ndarray]\n",
    "            probs: List[np.ndarray]\n",
    "            loss: float\n",
    "            prediction, hidden_states, probs, loss = self.forward(one_hot, y, sequence_size)\n",
    "                \n",
    "            correct_preds += np.sum(prediction == y)\n",
    "            all_preds     += y.shape[0]\n",
    "            \n",
    "            dWxh, dWhh, dWhy = self.backward(one_hot, y, sequence_size, \n",
    "                                        hidden_states, probs)\n",
    "            \n",
    "            self.Wxh += -learning_rate * dWxh\n",
    "            self.Whh += -learning_rate * dWhh\n",
    "            self.Why += -learning_rate * dWhy\n",
    "            \n",
    "            if (i + 1) % lr_reduce_rate == 0:\n",
    "                learning_rate *= lr_lambda\n",
    "\n",
    "            if (i + 1) % info_rate == 0:\n",
    "                accuracy: float = correct_preds / all_preds\n",
    "                accur_list.append(accuracy)\n",
    "                print('Accuracy for last 100 sequences = {}'.format(accuracy))\n",
    "                correct_preds = 0\n",
    "                all_preds     = 0\n",
    "                \n",
    "        return accur_list\n",
    "    \n",
    "    def predict(self, X: np.ndarray) -> np.ndarray:\n",
    "        one_hot: np.ndarray = np.zeros((self.max_n + 1, 1))\n",
    "        one_hot[X, :] = 1\n",
    "        seq_size:int = X.shape[0]\n",
    "        prediction: np.ndarray = np.zeros(seq_size, dtype=np.int32)\n",
    "            \n",
    "        hidden_states: List[np.ndarray] = []\n",
    "        hidden_states.append(np.zeros((self.hidden_dim, 1)))   \n",
    "        \n",
    "        pos: int\n",
    "        for pos in range(seq_size):\n",
    "            one_hot[self.max_n] = pos\n",
    "            \n",
    "            hidden: np.ndarray = np.tanh(np.dot(self.Wxh, one_hot) + np.dot(self.Whh, hidden_states[-1]))\n",
    "            hidden_states.append(hidden)\n",
    "            \n",
    "            output: np.ndarray = np.dot(self.Why, hidden)\n",
    "            prob: np.ndarray = np.exp(output) / np.sum(np.exp(output)) \n",
    "\n",
    "            prediction[pos] = np.argmax(prob)\n",
    "            \n",
    "        return prediction\n",
    "            "
   ]
  },
  {
   "cell_type": "code",
   "execution_count": 125,
   "metadata": {},
   "outputs": [],
   "source": [
    "max_number: int = 10\n",
    "hidden_dim: int = 1024\n",
    "model: JustRNN = JustRNN(max_number, hidden_dim)\n",
    "max_seq_len = 10"
   ]
  },
  {
   "cell_type": "code",
   "execution_count": 139,
   "metadata": {},
   "outputs": [
    {
     "name": "stdout",
     "output_type": "stream",
     "text": [
      "[3 3 0 8 1 7 1 0 2 9] = X\n",
      "[0 0 1 1 2 3 3 7 8 9] = Target\n",
      "[6 6 6 6 6 6 9 9 9 9] = Before training prediction\n"
     ]
    }
   ],
   "source": [
    "X: np.ndarray = np.random.randint(max_number, size=max_seq_len)\n",
    "print('{} = X'.format(X))\n",
    "print('{} = Target'.format(np.sort(X)))\n",
    "print('{} = Before training prediction'.format(model.predict(X)))"
   ]
  },
  {
   "cell_type": "code",
   "execution_count": 127,
   "metadata": {},
   "outputs": [
    {
     "name": "stdout",
     "output_type": "stream",
     "text": [
      "Accuracy for last 100 sequences = 0.189\n",
      "Accuracy for last 100 sequences = 0.313\n",
      "Accuracy for last 100 sequences = 0.306\n",
      "Accuracy for last 100 sequences = 0.342\n",
      "Accuracy for last 100 sequences = 0.426\n",
      "Accuracy for last 100 sequences = 0.442\n",
      "Accuracy for last 100 sequences = 0.51\n",
      "Accuracy for last 100 sequences = 0.482\n",
      "Accuracy for last 100 sequences = 0.508\n",
      "Accuracy for last 100 sequences = 0.536\n",
      "Accuracy for last 100 sequences = 0.521\n",
      "Accuracy for last 100 sequences = 0.543\n",
      "Accuracy for last 100 sequences = 0.577\n"
     ]
    }
   ],
   "source": [
    "max_examples: int = 1300\n",
    "learning_rate: float = 6e-3\n",
    "accur_list: List[float] = model.train(max_examples, learning_rate, max_seq_len)"
   ]
  },
  {
   "cell_type": "code",
   "execution_count": 128,
   "metadata": {},
   "outputs": [
    {
     "data": {
      "image/png": "[encoded data removed]",
      "text/plain": [
       "<Figure size 432x288 with 1 Axes>"
      ]
     },
     "metadata": {
      "needs_background": "light"
     },
     "output_type": "display_data"
    }
   ],
   "source": [
    "plt.plot(accur_list, label='Accuracy')\n",
    "plt.xlabel('Train examples, 100 it.')\n",
    "plt.ylabel('Accuracy, %')\n",
    "plt.show()"
   ]
  },
  {
   "cell_type": "code",
   "execution_count": 140,
   "metadata": {},
   "outputs": [
    {
     "name": "stdout",
     "output_type": "stream",
     "text": [
      "[3 3 0 8 1 7 1 0 2 9] = X\n",
      "[0 0 1 1 2 3 3 7 8 9] = Target\n",
      "[0 1 1 2 3 3 7 8 8 9] = After training prediction\n"
     ]
    }
   ],
   "source": [
    "print('{} = X'.format(X))\n",
    "print('{} = Target'.format(np.sort(X)))\n",
    "print('{} = After training prediction'.format(model.predict(X)))"
   ]
  },
  {
   "cell_type": "code",
   "execution_count": null,
   "metadata": {},
   "outputs": [],
   "source": []
  }
 ],
 "metadata": {
  "kernelspec": {
   "display_name": "Python 3",
   "language": "python",
   "name": "python3"
  },
  "language_info": {
   "codemirror_mode": {
    "name": "ipython",
    "version": 3
   },
   "file_extension": ".py",
   "mimetype": "text/x-python",
   "name": "python",
   "nbconvert_exporter": "python",
   "pygments_lexer": "ipython3",
   "version": "3.7.3"
  }
 },
 "nbformat": 4,
 "nbformat_minor": 2
}
